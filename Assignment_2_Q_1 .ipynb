{
  "nbformat": 4,
  "nbformat_minor": 0,
  "metadata": {
    "colab": {
      "provenance": []
    },
    "kernelspec": {
      "name": "python3",
      "display_name": "Python 3"
    },
    "language_info": {
      "name": "python"
    }
  },
  "cells": [
    {
      "cell_type": "code",
      "source": [
        "# Sept 30, 2023\n",
        "# CSC461 – Assignment2 – Regular Expressions\n",
        "# Zohaib Murtaza\n",
        "# FA21-BSE-138 - C\n",
        "\n",
        "#Tasks:\n",
        "#Extract list of all words starting with a capital letter.\n",
        "#Extract list of all words of length 5.\n",
        "#Extract list of all words inside double quotes.\n",
        "#Extract list of all vowels.\n",
        "#Extract list of 3-letter words ending with letter ‘e’.\n",
        "#Extract list of all words starting and ending with letter ‘b’.\n",
        "#Remove all the punctuation marks from the text.\n",
        "#Replace all words ending 'n't' to their full form 'not'.\n",
        "#Replace all the new lines with a single space."
      ],
      "metadata": {
        "id": "I0EDjxm0IO3f"
      },
      "execution_count": null,
      "outputs": []
    },
    {
      "cell_type": "code",
      "execution_count": 1,
      "metadata": {
        "id": "JfE3AYgY_MIP"
      },
      "outputs": [],
      "source": [
        "#import library re for regular expressions\n",
        "import re"
      ]
    },
    {
      "cell_type": "code",
      "source": [
        "#import Google Drive and mount the entire drive\n",
        "from google.colab import drive\n",
        "drive.mount('/content/drive')"
      ],
      "metadata": {
        "id": "LoTjSoqL_X8n"
      },
      "execution_count": null,
      "outputs": []
    },
    {
      "cell_type": "code",
      "source": [
        "#read text from the file from google drive\n",
        "text = open('/content/drive/My Drive/example-text.txt', 'r').read()\n",
        "print(text)"
      ],
      "metadata": {
        "colab": {
          "base_uri": "https://localhost:8080/"
        },
        "id": "MrBVtz3QAilg",
        "outputId": "3f5376ef-dca7-4834-817e-ec2c25d1d41e"
      },
      "execution_count": 72,
      "outputs": [
        {
          "output_type": "stream",
          "name": "stdout",
          "text": [
            "The outlook wasn't brilliant for the Mudville nine that day; \n",
            "The score stood four to two, with but one inning more to play,\n",
            "And then when Cooney died at first, and Barrows did the same,\n",
            "A pall-like silence fell upon the patrons of the game. \n",
            "\n",
            "A straggling few got up to go in deep despair. The rest\n",
            "Clung to that hope which springs eternal in the human breast;\n",
            "They thought, \"If only Casey could but get a whack at that--\n",
            "We'd put up even money now, with Casey at the bat.\" \n",
            "\n",
            "But Flynn preceded Casey, as did also Jimmy Blake,\n",
            "And the former was a lulu, while the latter was a cake;\n",
            "So upon that stricken multitude grim melancholy sat,\n",
            "For there seemed but little chance of Casey getting to the bat.\n",
            "\n",
            "But Flynn let drive a single, to the wonderment of all,\n",
            "And Blake, the much despised, tore the cover off the ball;\n",
            "And when the dust had lifted, and men saw what had occurred,\n",
            "There was Jimmy safe at second and Flynn a-hugging third. \n",
            "\n",
            "Then from five thousand throats and more there rose a lusty yell;\n",
            "It rumbled through the valley, it rattled in the dell;\n",
            "It pounded on the mountain and recoiled upon the flat,\n",
            "For Casey, mighty Casey, was advancing to the bat. \n",
            "\n",
            "There was ease in Casey's manner as he stepped into his place;\n",
            "There was pride in Casey's bearing and a smile lit Casey's face.\n",
            "And when, responding to the cheers, he lightly doffed his hat,\n",
            "No stranger in the crowd could doubt 'twas Casey at the bat. \n",
            "\n",
            "Ten thousand eyes were on him as he rubbed his hands with dirt;\n",
            "Five thousand tongues applauded when he wiped them on his shirt;\n",
            "Then while the writhing pitcher ground the ball into his hip,\n",
            "Defiance flashed in Casey's eye, a sneer curled Casey's lip. \n",
            "\n",
            "And now the leather-covered sphere came hurtling through the air,\n",
            "And Casey stood a-watching it in haughty grandeur there.\n",
            "Close by the sturdy batsman the ball unheeded sped--\n",
            "\"That ain't my style,\" said Casey. \"Strike one!\" the umpire said. \n",
            "\n",
            "From the benches, black with people, there went up a muffled roar,\n",
            "Like the beating of the storm-waves on a stern and distant shore;\n",
            "\"Kill him! Kill the umpire!\" shouted some one on the stand;\n",
            "And it's likely they'd have killed him had not Casey raised his hand. \n",
            "\n",
            "With a smile of Christian charity great Casey's visage shone;\n",
            "He stilled the rising tumult; he bade the game go on;\n",
            "He signaled to the pitcher, and once more the dun sphere flew;\n",
            "But Casey still ignored it, and the umpire said, \"Strike two!\" \n",
            "\n",
            "\"Fraud!\" cried the maddened thousands, and echo answered \"Fraud!\"\n",
            "But one scornful look from Casey and the audience was awed.\n",
            "They saw his face grow stern and cold, they saw his muscles strain,\n",
            "And they knew that Casey wouldn't let that ball go by again. \n",
            "\n",
            "The sneer has fled from Casey's lip, his teeth are clenched in hate;\n",
            "He pounds with cruel violence his bat upon the plate.\n",
            "And now the pitcher holds the ball, and now he lets it go.\n",
            "And now the air is shattered by the force of Casey's blow. \n",
            "\n",
            "Oh, somewhere in this favored land the sun is shining bright;\n",
            "The band is playing somewhere, and somewhere hearts are light,\n",
            "And somewhere men are laughing, and little children shout;\n",
            "But there is no joy in Mudville--great Casey has struck out\n",
            "\n"
          ]
        }
      ]
    },
    {
      "cell_type": "code",
      "source": [
        "# 1. Extract list of all words.\n",
        "all_words = re.findall(r'\\b\\w+(?:\\'\\w+)?\\b', text)\n",
        "all_words"
      ],
      "metadata": {
        "id": "kZuRK83ZArNp"
      },
      "execution_count": null,
      "outputs": []
    },
    {
      "cell_type": "code",
      "source": [
        "# 2. Extract list of all words starting with a capital letter.\n",
        "capital_words = re.findall(r'\\b[A-Z]\\w*\\b', text)\n",
        "capital_words"
      ],
      "metadata": {
        "id": "LiNRHFUNBmgR"
      },
      "execution_count": null,
      "outputs": []
    },
    {
      "cell_type": "code",
      "source": [
        "# 3. Extract list of all words of length 5.\n",
        "five_letter_words = re.findall(r'\\b\\w{5}\\b', text)\n",
        "print(five_letter_words)"
      ],
      "metadata": {
        "id": "ysM9mSjtBtv3"
      },
      "execution_count": null,
      "outputs": []
    },
    {
      "cell_type": "code",
      "source": [
        "# 4. Extract list of all words inside double quotes.\n",
        "quoted_words = re.findall(r'\"([^\"]+)\"', text)\n",
        "quoted_words\n",
        "\n",
        "#if output should be all words from sentences inside double quotes instead of whole sentences\n",
        "#quoted_words = re.findall(r'\"([^\"]+)\"', text)\n",
        "#individual_words_in_quotes = [re.findall(r'\\b\\w+\\b', content) for content in quoted_words]\n",
        "#individual_words_in_quotes\n"
      ],
      "metadata": {
        "id": "KUpVEOucB1p9"
      },
      "execution_count": null,
      "outputs": []
    },
    {
      "cell_type": "code",
      "source": [
        "# 5. Extract list of all vowels.\n",
        "vowels = re.findall(r'[aeiouAEIOU]', text)\n",
        "print(vowels)\n",
        "\n",
        "#if vowel_words was required instead of vowels\n",
        "#vowel_words = re.findall(r'\\b[aeiouAEIOU][a-zA-Z]*\\b', text)\n",
        "#print(vowel_words)"
      ],
      "metadata": {
        "colab": {
          "base_uri": "https://localhost:8080/"
        },
        "id": "yxw2J2cVKAlL",
        "outputId": "6a219dbc-255a-4313-e249-124ffcb66c34"
      },
      "execution_count": 65,
      "outputs": [
        {
          "output_type": "stream",
          "name": "stdout",
          "text": [
            "['e', 'o', 'u', 'o', 'o', 'a', 'i', 'i', 'a', 'o', 'e', 'u', 'i', 'e', 'i', 'e', 'a', 'a', 'e', 'o', 'e', 'o', 'o', 'o', 'u', 'o', 'o', 'i', 'u', 'o', 'e', 'i', 'i', 'o', 'e', 'o', 'a', 'A', 'e', 'e', 'o', 'o', 'e', 'i', 'e', 'a', 'i', 'a', 'a', 'o', 'i', 'e', 'a', 'e', 'A', 'a', 'i', 'e', 'i', 'e', 'e', 'e', 'u', 'o', 'e', 'a', 'o', 'o', 'e', 'a', 'e', 'A', 'a', 'i', 'e', 'o', 'u', 'o', 'o', 'i', 'e', 'e', 'e', 'a', 'i', 'e', 'e', 'u', 'o', 'a', 'o', 'e', 'i', 'i', 'e', 'e', 'a', 'i', 'e', 'u', 'a', 'e', 'a', 'e', 'o', 'u', 'I', 'o', 'a', 'e', 'o', 'u', 'u', 'e', 'a', 'a', 'a', 'a', 'e', 'u', 'u', 'e', 'e', 'o', 'e', 'o', 'i', 'a', 'e', 'a', 'e', 'a', 'u', 'e', 'e', 'e', 'a', 'e', 'a', 'i', 'a', 'o', 'i', 'a', 'e', 'A', 'e', 'o', 'e', 'a', 'a', 'u', 'u', 'i', 'e', 'e', 'a', 'e', 'a', 'a', 'a', 'e', 'o', 'u', 'o', 'a', 'i', 'e', 'u', 'i', 'u', 'e', 'i', 'e', 'a', 'o', 'a', 'o', 'e', 'e', 'e', 'e', 'e', 'u', 'i', 'e', 'a', 'e', 'o', 'a', 'e', 'e', 'i', 'o', 'e', 'a', 'u', 'e', 'i', 'e', 'a', 'i', 'e', 'o', 'e', 'o', 'e', 'e', 'o', 'a', 'A', 'a', 'e', 'e', 'u', 'e', 'i', 'e', 'o', 'e', 'e', 'o', 'e', 'o', 'e', 'a', 'A', 'e', 'e', 'u', 'a', 'i', 'e', 'a', 'e', 'a', 'a', 'a', 'o', 'u', 'e', 'e', 'e', 'a', 'i', 'a', 'e', 'a', 'e', 'o', 'a', 'a', 'u', 'i', 'i', 'e', 'o', 'i', 'e', 'o', 'u', 'a', 'o', 'a', 'a', 'o', 'e', 'e', 'e', 'o', 'e', 'a', 'u', 'e', 'I', 'u', 'e', 'o', 'u', 'e', 'a', 'e', 'i', 'a', 'e', 'i', 'e', 'e', 'I', 'o', 'u', 'e', 'o', 'e', 'o', 'u', 'a', 'i', 'a', 'e', 'o', 'i', 'e', 'u', 'o', 'e', 'a', 'o', 'a', 'e', 'i', 'a', 'e', 'a', 'a', 'a', 'i', 'o', 'e', 'a', 'e', 'e', 'a', 'e', 'a', 'e', 'i', 'a', 'e', 'a', 'e', 'a', 'e', 'e', 'e', 'i', 'o', 'i', 'a', 'e', 'e', 'e', 'a', 'i', 'e', 'i', 'a', 'e', 'e', 'a', 'i', 'a', 'a', 'i', 'e', 'i', 'a', 'e', 'a', 'e', 'A', 'e', 'e', 'o', 'i', 'o', 'e', 'e', 'e', 'e', 'i', 'o', 'e', 'i', 'a', 'o', 'a', 'e', 'i', 'e', 'o', 'o', 'u', 'o', 'u', 'a', 'a', 'e', 'a', 'e', 'a', 'e', 'o', 'u', 'a', 'e', 'e', 'e', 'e', 'o', 'i', 'a', 'e', 'u', 'e', 'i', 'a', 'i', 'i', 'i', 'e', 'o', 'u', 'a', 'o', 'u', 'e', 'a', 'a', 'u', 'e', 'e', 'e', 'i', 'e', 'e', 'o', 'i', 'i', 'e', 'i', 'e', 'e', 'i', 'i', 'i', 'e', 'o', 'u', 'e', 'a', 'i', 'o', 'i', 'i', 'e', 'i', 'a', 'e', 'a', 'e', 'i', 'a', 'e', 'e', 'e', 'a', 'e', 'e', 'u', 'e', 'a', 'e', 'i', 'A', 'o', 'e', 'e', 'a', 'e', 'o', 'e', 'e', 'e', 'e', 'a', 'e', 'u', 'i', 'o', 'u', 'e', 'a', 'i', 'A', 'a', 'e', 'o', 'o', 'a', 'a', 'i', 'i', 'i', 'a', 'u', 'a', 'e', 'u', 'e', 'e', 'o', 'e', 'e', 'u', 'a', 'a', 'e', 'a', 'u', 'e', 'e', 'e', 'e', 'a', 'a', 'i', 'e', 'a', 'i', 'a', 'e', 'i', 'e', 'o', 'e', 'e', 'u', 'i', 'e', 'a', 'i', 'o', 'e', 'e', 'e', 'a', 'i', 'e', 'o', 'e', 'e', 'e', 'e', 'u', 'a', 'u', 'e', 'o', 'a', 'i', 'e', 'e', 'e', 'a', 'i', 'o', 'e', 'o', 'a', 'e', 'o', 'a', 'e', 'a', 'i', 'a', 'o', 'e', 'i', 'i', 'i', 'e', 'u', 'i', 'e', 'o', 'u', 'e', 'o', 'e', 'o', 'e', 'o', 'e', 'a', 'A', 'i', 'i', 'e', 'e', 'a', 'e', 'i', 'e', 'i', 'a', 'o', 'a', 'e', 'a', 'i', 'e', 'i', 'a', 'i', 'a', 'i', 'e', 'o', 'i', 'i', 'a', 'a', 'i', 'e', 'a', 'a', 'e', 'i', 'a', 'e', 'o', 'e', 'e', 'i', 'e', 'e', 'i', 'i', 'u', 'u', 'e', 'a', 'e', 'e', 'a', 'e', 'o', 'o', 'e', 'i', 'a', 'e', 'o', 'e', 'i', 'e', 'a', 'o', 'e', 'o', 'e', 'e', 'u', 'e', 'e', 'e', 'u', 'a', 'e', 'i', 'i', 'o', 'e', 'i', 'a', 'e', 'u', 'i', 'e', 'a', 'i', 'i', 'e', 'o', 'a', 'u', 'i', 'e', 'e', 'a', 'e', 'e', 'o', 'u', 'a', 'a', 'e', 'o', 'a', 'e', 'e', 'a', 'u', 'u', 'o', 'e', 'o', 'u', 'o', 'o', 'o', 'a', 'e', 'a', 'e', 'a', 'u', 'i', 'e', 'e', 'a', 'a', 'e', 'e', 'a', 'i', 'a', 'e', 'o', 'e', 'a', 'o', 'e', 'a', 'i', 'u', 'e', 'a', 'i', 'A', 'e', 'e', 'a', 'a', 'e', 'o', 'u', 'e', 'a', 'a', 'o', 'a', 'a', 'i', 'e', 'e', 'e', 'a', 'e', 'o', 'a', 'e', 'i', 'i', 'e', 'e', 'a', 'e', 'e', 'e', 'i', 'a', 'e', 'e', 'o', 'u', 'i', 'u', 'e', 'i', 'o', 'e', 'e', 'i', 'a', 'u', 'o', 'e', 'a', 'e', 'A', 'o', 'e', 'i', 'e', 'o', 'e', 'a', 'a', 'o', 'e', 'e', 'i', 'o', 'A', 'o', 'e', 'a', 'i', 'i', 'a', 'e', 'e', 'e', 'o', 'e', 'o', 'a', 'e', 'o', 'O', 'o', 'e', 'e', 'e', 'i', 'i', 'a', 'o', 'e', 'a', 'e', 'u', 'i', 'i', 'i', 'i', 'e', 'a', 'i', 'a', 'i', 'o', 'e', 'e', 'e', 'a', 'o', 'e', 'e', 'e', 'e', 'a', 'a', 'e', 'i', 'A', 'o', 'e', 'e', 'e', 'e', 'a', 'e', 'a', 'u', 'i', 'a', 'i', 'e', 'i', 'e', 'o', 'u', 'u', 'e', 'e', 'i', 'o', 'o', 'i', 'u', 'i', 'e', 'e', 'a', 'a', 'e', 'a', 'u', 'o', 'u']\n"
          ]
        }
      ]
    },
    {
      "cell_type": "code",
      "source": [
        "# 6. Extract list of 3 letter words ending with letter ‘e’.\n",
        "three_letter_e_words = re.findall(r'\\b\\w{2}e\\b', text)\n",
        "print(three_letter_e_words)"
      ],
      "metadata": {
        "colab": {
          "base_uri": "https://localhost:8080/"
        },
        "id": "_9MZ7j8eCKxj",
        "outputId": "0d866ffb-8272-4aed-ec39-01496627ed0a"
      },
      "execution_count": 74,
      "outputs": [
        {
          "output_type": "stream",
          "name": "stdout",
          "text": [
            "['The', 'the', 'The', 'one', 'the', 'the', 'the', 'The', 'the', 'the', 'the', 'the', 'the', 'the', 'the', 'the', 'the', 'the', 'the', 'the', 'the', 'the', 'the', 'the', 'the', 'the', 'the', 'the', 'eye', 'the', 'the', 'the', 'the', 'one', 'the', 'the', 'the', 'the', 'the', 'one', 'the', 'the', 'the', 'the', 'the', 'the', 'the', 'one', 'the', 'The', 'are', 'the', 'the', 'the', 'the', 'the', 'the', 'The', 'are', 'are']\n"
          ]
        }
      ]
    },
    {
      "cell_type": "code",
      "source": [
        "# 7. Extract list of all words starting and ending with letter ‘b’.\n",
        "b_words = re.findall(r'\\b[bB]\\w*[bB]\\b', text)\n",
        "b_words"
      ],
      "metadata": {
        "colab": {
          "base_uri": "https://localhost:8080/"
        },
        "id": "H_vu1vfQLhPA",
        "outputId": "a958080b-1643-4a8e-fb1c-9664e19e4800"
      },
      "execution_count": 73,
      "outputs": [
        {
          "output_type": "execute_result",
          "data": {
            "text/plain": [
              "[]"
            ]
          },
          "metadata": {},
          "execution_count": 73
        }
      ]
    },
    {
      "cell_type": "code",
      "source": [
        "# 8. Remove all the punctuation marks from the text.\n",
        "text_without_punctuation = re.sub(r'[^\\w\\s]', '', text)\n",
        "print(text_without_punctuation)"
      ],
      "metadata": {
        "id": "ZdT8zDaWCcpx"
      },
      "execution_count": null,
      "outputs": []
    },
    {
      "cell_type": "code",
      "source": [
        "# 9. Replace all words ending ‘n't’ to their full form ‘not’.\n",
        "text_with_full_forms = re.sub(r\"\\b(\\w+)n't\\b\", lambda match: match.group(1) + \" not\", text)\n",
        "print(text_with_full_forms)"
      ],
      "metadata": {
        "id": "HJQc6bqpCku3"
      },
      "execution_count": null,
      "outputs": []
    },
    {
      "cell_type": "code",
      "source": [
        "# 10. Replace all the new lines with a single space.\n",
        "text_single_space = re.sub(r'\\n', ' ', text)\n",
        "print(text_single_space)"
      ],
      "metadata": {
        "id": "jhAQYP43D_7j"
      },
      "execution_count": null,
      "outputs": []
    }
  ]
}