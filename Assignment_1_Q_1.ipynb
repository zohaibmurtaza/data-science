{
  "nbformat": 4,
  "nbformat_minor": 0,
  "metadata": {
    "colab": {
      "provenance": []
    },
    "kernelspec": {
      "name": "python3",
      "display_name": "Python 3"
    },
    "language_info": {
      "name": "python"
    }
  },
  "cells": [
    {
      "cell_type": "code",
      "execution_count": null,
      "metadata": {
        "id": "r3z0GBwE7S0g"
      },
      "outputs": [],
      "source": [
        "#Import Libraries\n",
        "import requests\n",
        "import time\n",
        "from bs4 import BeautifulSoup\n",
        "import pandas as pd"
      ]
    },
    {
      "cell_type": "code",
      "source": [
        "#List of movies\n",
        "favourites = [\n",
        "    'https://www.imdb.com/title/tt2397535/',\n",
        "    'https://www.imdb.com/title/tt1375666/',\n",
        "    'https://www.imdb.com/title/tt3907584/',\n",
        "    'https://www.imdb.com/title/tt1877832/',\n",
        "    'https://www.imdb.com/title/tt4158110/'\n",
        "]\n",
        "favourites"
      ],
      "metadata": {
        "colab": {
          "base_uri": "https://localhost:8080/"
        },
        "id": "MxS81sWK72A6",
        "outputId": "4e64eb9b-aa22-4901-f52f-b7fba75f8277"
      },
      "execution_count": null,
      "outputs": [
        {
          "output_type": "execute_result",
          "data": {
            "text/plain": [
              "['https://www.imdb.com/title/tt2397535/',\n",
              " 'https://www.imdb.com/title/tt1375666/',\n",
              " 'https://www.imdb.com/title/tt3907584/',\n",
              " 'https://www.imdb.com/title/tt1877832/',\n",
              " 'https://www.imdb.com/title/tt4158110/']"
            ]
          },
          "metadata": {},
          "execution_count": 2
        }
      ]
    },
    {
      "cell_type": "code",
      "source": [
        "#Fetch Movies\n",
        "headers = {'User-Agent': 'Mozilla/5.0 (Windows NT 10.0; Win64; x64) AppleWebKit/537.36 (KHTML, like Gecko) Chrome/58.0.3029.110 Safari/537.36'}\n",
        "response = requests.get('https://www.imdb.com/title/tt4158110/', headers=headers)\n",
        "webpages = []\n",
        "for movie in favourites:\n",
        "  res = requests.get(movie, headers=headers)\n",
        "  webpages.append(BeautifulSoup(res.content, 'html.parser'))\n",
        "  time.sleep(2)"
      ],
      "metadata": {
        "id": "r_92V73d86tc"
      },
      "execution_count": null,
      "outputs": []
    },
    {
      "cell_type": "code",
      "source": [
        "#Extract data into List of Lists.\n",
        "data = []\n",
        "data.append(('Title', 'Rating'))\n",
        "for page in webpages:\n",
        "  title = page.select('[data-testid=\"hero__pageTitle\"] span')[0].text\n",
        "  rating = page.select('[data-testid=\"hero-rating-bar__aggregate-rating__score\"] span')[0].text\n",
        "  data.append((title, float(rating)))"
      ],
      "metadata": {
        "id": "VcDXVds_-tPT"
      },
      "execution_count": null,
      "outputs": []
    },
    {
      "cell_type": "code",
      "source": [
        "# Generate dataframe from list and write to xlsx.\n",
        "pd.DataFrame(data).to_excel('output.xlsx', header=False, index=False)\n"
      ],
      "metadata": {
        "id": "DLLXpHZ_K1US"
      },
      "execution_count": null,
      "outputs": []
    }
  ]
}