{
  "nbformat": 4,
  "nbformat_minor": 0,
  "metadata": {
    "colab": {
      "provenance": []
    },
    "kernelspec": {
      "name": "python3",
      "display_name": "Python 3"
    },
    "language_info": {
      "name": "python"
    }
  },
  "cells": [
    {
      "cell_type": "code",
      "source": [
        "# November 25, 2023\n",
        "# CSC461 – Assignment3 – Machine Learning\n",
        "# Zohaib Murtaza\n",
        "# CIIT/FA21-BSE-138/LHR\n",
        "# Using the provided gender prediction dateset, using required learning models to find the accuracy of learning models with variation in the test and train split and excluding some significant attributes from the training data."
      ],
      "metadata": {
        "id": "7U093Cz_R1GJ"
      },
      "execution_count": null,
      "outputs": []
    },
    {
      "cell_type": "code",
      "execution_count": null,
      "metadata": {
        "id": "NzmIseLB-4im",
        "colab": {
          "base_uri": "https://localhost:8080/"
        },
        "outputId": "528513e5-8b4c-45c9-c727-0c5872e3f240"
      },
      "outputs": [
        {
          "output_type": "stream",
          "name": "stdout",
          "text": [
            "Collecting scikit-plot\n",
            "  Downloading scikit_plot-0.3.7-py3-none-any.whl (33 kB)\n",
            "Requirement already satisfied: matplotlib>=1.4.0 in /usr/local/lib/python3.10/dist-packages (from scikit-plot) (3.7.1)\n",
            "Requirement already satisfied: scikit-learn>=0.18 in /usr/local/lib/python3.10/dist-packages (from scikit-plot) (1.2.2)\n",
            "Requirement already satisfied: scipy>=0.9 in /usr/local/lib/python3.10/dist-packages (from scikit-plot) (1.11.3)\n",
            "Requirement already satisfied: joblib>=0.10 in /usr/local/lib/python3.10/dist-packages (from scikit-plot) (1.3.2)\n",
            "Requirement already satisfied: contourpy>=1.0.1 in /usr/local/lib/python3.10/dist-packages (from matplotlib>=1.4.0->scikit-plot) (1.2.0)\n",
            "Requirement already satisfied: cycler>=0.10 in /usr/local/lib/python3.10/dist-packages (from matplotlib>=1.4.0->scikit-plot) (0.12.1)\n",
            "Requirement already satisfied: fonttools>=4.22.0 in /usr/local/lib/python3.10/dist-packages (from matplotlib>=1.4.0->scikit-plot) (4.44.3)\n",
            "Requirement already satisfied: kiwisolver>=1.0.1 in /usr/local/lib/python3.10/dist-packages (from matplotlib>=1.4.0->scikit-plot) (1.4.5)\n",
            "Requirement already satisfied: numpy>=1.20 in /usr/local/lib/python3.10/dist-packages (from matplotlib>=1.4.0->scikit-plot) (1.23.5)\n",
            "Requirement already satisfied: packaging>=20.0 in /usr/local/lib/python3.10/dist-packages (from matplotlib>=1.4.0->scikit-plot) (23.2)\n",
            "Requirement already satisfied: pillow>=6.2.0 in /usr/local/lib/python3.10/dist-packages (from matplotlib>=1.4.0->scikit-plot) (9.4.0)\n",
            "Requirement already satisfied: pyparsing>=2.3.1 in /usr/local/lib/python3.10/dist-packages (from matplotlib>=1.4.0->scikit-plot) (3.1.1)\n",
            "Requirement already satisfied: python-dateutil>=2.7 in /usr/local/lib/python3.10/dist-packages (from matplotlib>=1.4.0->scikit-plot) (2.8.2)\n",
            "Requirement already satisfied: threadpoolctl>=2.0.0 in /usr/local/lib/python3.10/dist-packages (from scikit-learn>=0.18->scikit-plot) (3.2.0)\n",
            "Requirement already satisfied: six>=1.5 in /usr/local/lib/python3.10/dist-packages (from python-dateutil>=2.7->matplotlib>=1.4.0->scikit-plot) (1.16.0)\n",
            "Installing collected packages: scikit-plot\n",
            "Successfully installed scikit-plot-0.3.7\n"
          ]
        }
      ],
      "source": [
        "#install scikitplot\n",
        "!pip install scikit-plot"
      ]
    },
    {
      "cell_type": "code",
      "source": [
        "#import libraries\n",
        "from sklearn import preprocessing\n",
        "import pandas as pd\n",
        "\n",
        "#import different ML classifiers\n",
        "from sklearn.naive_bayes import GaussianNB, BernoulliNB, MultinomialNB\n",
        "from sklearn.svm import SVC, LinearSVC\n",
        "from sklearn.linear_model import LogisticRegression\n",
        "from sklearn.tree import DecisionTreeClassifier\n",
        "from sklearn.ensemble import RandomForestClassifier\n",
        "from sklearn.neural_network import MLPClassifier\n",
        "\n",
        "#import ML evaluation metrics\n",
        "from sklearn.metrics import accuracy_score, f1_score, precision_score, recall_score\n",
        "from sklearn.model_selection import train_test_split\n",
        "from sklearn.model_selection import cross_val_score\n",
        "from sklearn import metrics, model_selection"
      ],
      "metadata": {
        "id": "ahSt7pVQ_-D_"
      },
      "execution_count": null,
      "outputs": []
    },
    {
      "cell_type": "code",
      "source": [
        "#import library for accesssing Google Drive from Google Colab\n",
        "from google.colab import drive\n",
        "drive.mount('/content/drive')"
      ],
      "metadata": {
        "colab": {
          "base_uri": "https://localhost:8080/"
        },
        "id": "MjvhmxzmACAI",
        "outputId": "828f3142-a2f4-4dd3-c9e0-7eb6d1790706"
      },
      "execution_count": null,
      "outputs": [
        {
          "output_type": "stream",
          "name": "stdout",
          "text": [
            "Mounted at /content/drive\n"
          ]
        }
      ]
    },
    {
      "cell_type": "code",
      "source": [
        "gender_data = pd.read_csv('/content/drive/My Drive/DS-Datasets/gender-prediction.csv')\n",
        "\n",
        "#With added rows for question 4\n",
        "#gender_data = pd.read_csv('/content/drive/My Drive/DS-Datasets/gender-prediction_10-added.csv')"
      ],
      "metadata": {
        "id": "NWOgsG8JEc5E"
      },
      "execution_count": null,
      "outputs": []
    },
    {
      "cell_type": "code",
      "source": [
        "#Extracting input and outuput columns from csv\n",
        "\n",
        "#For question 1, only dropping gender\n",
        "input_attr = gender_data.drop('gender', axis=1)\n",
        "\n",
        "#For question 2, dropping hair_length, shoe size and gender.\n",
        "#input_attr = gender_data.drop(['hair_length', 'shoe_size', 'gender'], axis=1)\n",
        "\n",
        "output_attr = gender_data['gender']"
      ],
      "metadata": {
        "id": "2RMsCyG_Ehb0"
      },
      "execution_count": null,
      "outputs": []
    },
    {
      "cell_type": "code",
      "source": [
        "#Encoding Data\n",
        "label_encoder = preprocessing.LabelEncoder()\n",
        "input_encoded = input_attr.apply(label_encoder.fit_transform)\n",
        "output_encoded = label_encoder.fit_transform(output_attr)"
      ],
      "metadata": {
        "id": "lipbTkrvGgbt"
      },
      "execution_count": null,
      "outputs": []
    },
    {
      "cell_type": "code",
      "source": [
        "#Making train/test split\n",
        "input_train, input_test, output_train, output_test = train_test_split(input_encoded, output_encoded, test_size = 0.33, random_state = 2)\n",
        "\n",
        "#For question 2, changing split to 80/20\n",
        "#input_train, input_test, output_train, output_test = train_test_split(input_encoded, output_encoded, test_size = 0.20, random_state = 2)"
      ],
      "metadata": {
        "id": "tUZUK3K9HPuc"
      },
      "execution_count": null,
      "outputs": []
    },
    {
      "cell_type": "code",
      "source": [
        "#Using Logistic Regression\n",
        "lr_model = LogisticRegression()\n",
        "lr_model.fit(input_train,output_train)\n",
        "prediction = lr_model.predict(input_test)\n",
        "model_accuracy = accuracy_score(output_test, prediction)*100\n",
        "print(\"LR Accuracy: \", model_accuracy)\n",
        "incorrect_lr = (output_test != prediction).sum()\n",
        "print(\"Incorrectly Classified Instances (LR): \", incorrect_lr)"
      ],
      "metadata": {
        "colab": {
          "base_uri": "https://localhost:8080/"
        },
        "id": "ln8W8JK1Ia-b",
        "outputId": "c04df532-d46d-4eef-cccd-b17c31cd062b"
      },
      "execution_count": null,
      "outputs": [
        {
          "output_type": "stream",
          "name": "stdout",
          "text": [
            "LR Accuracy:  92.5\n",
            "Incorrectly Classified Instances (LR):  3\n"
          ]
        }
      ]
    },
    {
      "cell_type": "code",
      "source": [
        "# Using Support Vector Machines (SVM)\n",
        "svm_model = SVC()\n",
        "svm_model.fit(input_train, output_train)\n",
        "svm_prediction = svm_model.predict(input_test)\n",
        "svm_accuracy = accuracy_score(output_test, svm_prediction) * 100\n",
        "print(\"SVM Accuracy: \", svm_accuracy)\n",
        "incorrect_svm = (output_test != svm_prediction).sum()\n",
        "print(\"Incorrectly Classified Instances (SVM): \", incorrect_svm)"
      ],
      "metadata": {
        "colab": {
          "base_uri": "https://localhost:8080/"
        },
        "id": "LL-KtYxWKbDl",
        "outputId": "df0f8669-1793-4900-9d8b-1333da138fa3"
      },
      "execution_count": null,
      "outputs": [
        {
          "output_type": "stream",
          "name": "stdout",
          "text": [
            "SVM Accuracy:  87.5\n",
            "Incorrectly Classified Instances (SVM):  5\n"
          ]
        }
      ]
    },
    {
      "cell_type": "code",
      "source": [
        "# Using Multilayer Perceptron (MLP)\n",
        "mlp_model = MLPClassifier(max_iter=1000, learning_rate_init=0.001)\n",
        "mlp_model.fit(input_train, output_train)\n",
        "mlp_prediction = mlp_model.predict(input_test)\n",
        "mlp_accuracy = accuracy_score(output_test, mlp_prediction) * 100\n",
        "print(\"MLP Accuracy: \", mlp_accuracy)\n",
        "incorrect_mlp = (output_test != mlp_prediction).sum()\n",
        "print(\"Incorrectly Classified Instances (MLP): \", incorrect_mlp)"
      ],
      "metadata": {
        "colab": {
          "base_uri": "https://localhost:8080/"
        },
        "id": "E9vHIg-JKmZ3",
        "outputId": "143eb3da-313c-4e3c-a8cd-4a72d1c12a23"
      },
      "execution_count": null,
      "outputs": [
        {
          "output_type": "stream",
          "name": "stdout",
          "text": [
            "MLP Accuracy:  92.5\n",
            "Incorrectly Classified Instances (MLP):  3\n"
          ]
        }
      ]
    },
    {
      "cell_type": "code",
      "source": [
        "# Using Gaussian Naive Bayes for Question 4\n",
        "gaussian_nb_model = GaussianNB()\n",
        "gaussian_nb_model.fit(input_train, output_train)\n",
        "gaussian_nb_prediction = gaussian_nb_model.predict(input_test)\n",
        "gaussian_nb_accuracy = accuracy_score(output_test, gaussian_nb_prediction) * 100\n",
        "\n",
        "#Calculate accuracy\n",
        "print(\"Gaussian Naive Bayes Accuracy: \", gaussian_nb_accuracy)\n",
        "\n",
        "# Calculate precision\n",
        "gaussian_nb_precision = precision_score(output_test, gaussian_nb_prediction, average='weighted')\n",
        "print(\"Gaussian Naive Bayes Precision: \", gaussian_nb_precision)\n",
        "\n",
        "# Calculate recall\n",
        "gaussian_nb_recall = recall_score(output_test, gaussian_nb_prediction, average='weighted')\n",
        "print(\"Gaussian Naive Bayes Recall: \", gaussian_nb_recall)"
      ],
      "metadata": {
        "colab": {
          "base_uri": "https://localhost:8080/"
        },
        "id": "1aJthZsGlEuD",
        "outputId": "6e0e9d70-5635-4711-e631-223aefb90759"
      },
      "execution_count": null,
      "outputs": [
        {
          "output_type": "stream",
          "name": "stdout",
          "text": [
            "Gaussian Naive Bayes Accuracy:  97.5\n",
            "Gaussian Naive Bayes Precision:  0.9761363636363637\n",
            "Gaussian Naive Bayes Recall:  0.975\n"
          ]
        }
      ]
    },
    {
      "cell_type": "code",
      "source": [
        "# Using Random Forest with Monte Carlo cross-validation\n",
        "rf_model = RandomForestClassifier(n_estimators=100, random_state=42)\n",
        "monte_carlo_f1_scores = cross_val_score(rf_model, input_encoded, output_encoded, cv=5, scoring='f1_weighted')\n",
        "print(\"Random Forest (Monte Carlo) F1 Scores:\", monte_carlo_f1_scores)"
      ],
      "metadata": {
        "colab": {
          "base_uri": "https://localhost:8080/"
        },
        "id": "A-M-eG5mdZ44",
        "outputId": "7cdfaec9-a860-4c40-d256-2d667515eb66"
      },
      "execution_count": null,
      "outputs": [
        {
          "output_type": "stream",
          "name": "stdout",
          "text": [
            "Random Forest (Monte Carlo) F1 Scores: [1.         0.95405031 0.95463956 0.95425837 1.        ]\n"
          ]
        }
      ]
    },
    {
      "cell_type": "code",
      "source": [
        "# Using Random Forest with Leave P-Out cross-validation\n",
        "p_leave_out = 5\n",
        "leave_p_out_cv = model_selection.LeavePOut(p=p_leave_out)\n",
        "rf_model = RandomForestClassifier(n_estimators=100, random_state=42)\n",
        "leave_p_out_f1_scores = cross_val_score(rf_model, input_encoded, output_encoded, cv=leave_p_out_cv, scoring='f1_weighted')"
      ],
      "metadata": {
        "id": "Efkq8mukdcD-"
      },
      "execution_count": null,
      "outputs": []
    },
    {
      "cell_type": "code",
      "source": [
        "# Calculate mean and standard deviation of F1 scores\n",
        "mean_f1_score = leave_p_out_f1_scores.mean()\n",
        "std_f1_score = leave_p_out_f1_scores.std()\n",
        "# Print the results\n",
        "print(f\"{p_leave_out}-Leave-Out Cross-Validation Mean F1 Score: {mean_f1_score:.4f}\")\n",
        "print(f\"{p_leave_out}-Leave-Out Cross-Validation Standard Deviation F1 Score: {std_f1_score:.4f}\")"
      ],
      "metadata": {
        "id": "kptdaK9_jMUc"
      },
      "execution_count": null,
      "outputs": []
    }
  ]
}