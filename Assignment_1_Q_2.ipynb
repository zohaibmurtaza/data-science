{
  "nbformat": 4,
  "nbformat_minor": 0,
  "metadata": {
    "colab": {
      "provenance": []
    },
    "kernelspec": {
      "name": "python3",
      "display_name": "Python 3"
    },
    "language_info": {
      "name": "python"
    }
  },
  "cells": [
    {
      "cell_type": "code",
      "execution_count": null,
      "metadata": {
        "id": "Wp3Er6ORQp-T"
      },
      "outputs": [],
      "source": [
        "#import libraries\n",
        "import requests\n",
        "import time\n",
        "from bs4 import BeautifulSoup\n",
        "import pandas as pd"
      ]
    },
    {
      "cell_type": "code",
      "source": [
        "#websites links\n",
        "timeanddate_link = 'https://www.timeanddate.com/on-this-day/december/25'\n",
        "britannica_link = 'https://www.britannica.com/on-this-day/December-25'"
      ],
      "metadata": {
        "id": "JjNlIYOBQ4Fj"
      },
      "execution_count": null,
      "outputs": []
    },
    {
      "cell_type": "code",
      "source": [
        "#fetch results\n",
        "headers = {'User-Agent': 'Mozilla/5.0 (Windows NT 10.0; Win64; x64) AppleWebKit/537.36 (KHTML, like Gecko) Chrome/58.0.3029.110 Safari/537.36'}\n",
        "res = requests.get(timeanddate_link, headers=headers)\n",
        "timeanddate = BeautifulSoup(res.content, 'html.parser')\n",
        "res = requests.get(britannica_link, headers=headers)\n",
        "britannica = BeautifulSoup(res.content, 'html.parser')"
      ],
      "metadata": {
        "id": "RDuSWBqXTqJh"
      },
      "execution_count": null,
      "outputs": []
    },
    {
      "cell_type": "code",
      "source": [
        "#extract who share birthday\n",
        "persons = []\n",
        "data = timeanddate.select('.otd-life__block:first-child ul .otd-title')\n",
        "longest_name = 0\n",
        "for person in data:\n",
        "  year = person.find('strong').text\n",
        "  name = person.text.replace(year+' ', '')\n",
        "  persons.append({'name': name, 'year': year})\n",
        "  if(len(name) > longest_name):\n",
        "    longest_name = len(name)\n",
        "\n",
        "persons_table = ('----------------------------\\n  I share my birthday with\\n----------------------------\\n%-'+ str(longest_name) +'s\\tYear\\n----------------------------') % 'Name'\n",
        "for person in persons:\n",
        "  persons_table += ('\\n%-'+str(longest_name)+'s\\t%s') % (person['name'], person['year'])\n",
        "\n",
        "print(persons_table + '\\n\\n\\n')\n"
      ],
      "metadata": {
        "colab": {
          "base_uri": "https://localhost:8080/"
        },
        "id": "4qZNu_WwUXqq",
        "outputId": "a73a7d3f-67ff-4f6a-d72e-602044d6e7c1"
      },
      "execution_count": null,
      "outputs": [
        {
          "output_type": "stream",
          "name": "stdout",
          "text": [
            "----------------------------\n",
            "  I share my birthday with\n",
            "----------------------------\n",
            "Name               \tYear\n",
            "----------------------------\n",
            "Alastair Cook      \t1984\n",
            "Rod Serling        \t1924\n",
            "Humphrey Bogart    \t1899\n",
            "Muhammad Ali Jinnah\t1876\n",
            "Isaac Newton       \t1642\n",
            "\n",
            "\n",
            "\n"
          ]
        }
      ]
    },
    {
      "cell_type": "code",
      "source": [
        "#extract events on birthday\n",
        "events = []\n",
        "data = britannica.select('.otd-featured-event .title ')[0].text + '.'\n",
        "events.append(data)\n",
        "data = britannica.select('.md-history-event .card-body')\n",
        "for row in data:\n",
        "  row.select('div')[0].decompose()\n",
        "  row.select('.font-weight-bold')[0].decompose()\n",
        "  events.append(row.text.replace('\\n', '').lstrip())\n",
        "events\n",
        "\n",
        "events_list = 'Following events were occured on my birthday\\n---------------------------------------------'\n",
        "for i in range(len(events)):\n",
        "  events_list += '\\n' + str(i) + '. ' + events[i]\n",
        "\n",
        "print(events_list)"
      ],
      "metadata": {
        "colab": {
          "base_uri": "https://localhost:8080/"
        },
        "id": "pE66yTEiWobo",
        "outputId": "3e3590de-4a3b-4738-ee2b-181d59f72794"
      },
      "execution_count": null,
      "outputs": [
        {
          "output_type": "stream",
          "name": "stdout",
          "text": [
            "Following events were occured on my birthday\n",
            "---------------------------------------------\n",
            "0. Christmas celebrated worldwide.\n",
            "1. American singer and songwriter James Brown, known as “the Godfather of Soul,” died at the age of 73. \n",
            "2. Mikhail Gorbachev resigned the presidency of the Soviet Union, which ceased to exist at the end of the year. \n",
            "3. Charlie Chaplin, the British comedic actor and director who is widely regarded as one of the most important figures in motion-picture history, died in Corsier-sur-Vevey, Switzerland. \n",
            "4. The film adaptation of Harper Lee's To Kill a Mockingbird premiered and became a classic, especially noted for Gregory Peck's portrayal of Atticus Finch. \n",
            "5. Clara Barton, founder of the American Red Cross, was born in Oxford, Massachusetts. \n",
            "6. During the American Revolution, General George Washington crossed the Delaware River and surprised the British at Trenton, New Jersey. \n",
            "7. William I was crowned king of England, formally completing the Norman Conquest. \n",
            "8. Charlemagne, king of the Franks, became the first emperor of the Holy Roman Empire. \n"
          ]
        }
      ]
    },
    {
      "cell_type": "code",
      "source": [
        "file = open('birthday_data.txt', 'w')\n",
        "file.write(persons_table + '\\n\\n\\n' + events_list)\n",
        "file.close()"
      ],
      "metadata": {
        "id": "znuSoO6peSJA"
      },
      "execution_count": null,
      "outputs": []
    }
  ]
}